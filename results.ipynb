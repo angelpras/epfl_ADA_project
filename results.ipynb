{
 "cells": [
  {
   "cell_type": "code",
   "execution_count": 1,
   "metadata": {},
   "outputs": [
    {
     "name": "stderr",
     "output_type": "stream",
     "text": [
      "/Users/alexislimozin/.pyenv/versions/3.11.9/envs/ada/lib/python3.11/site-packages/sentence_transformers/cross_encoder/CrossEncoder.py:13: TqdmExperimentalWarning: Using `tqdm.autonotebook.tqdm` in notebook mode. Use `tqdm.tqdm` instead to force console mode (e.g. in jupyter console)\n",
      "  from tqdm.autonotebook import tqdm, trange\n"
     ]
    }
   ],
   "source": [
    "import sys\n",
    "import os\n",
    "import pandas as pd\n",
    "sys.path.append(os.path.abspath(os.path.join(os.getcwd(), 'src')))\n",
    "\n",
    "\n",
    "from utils import process_articles_directory\n",
    "from sentence_transformers import SentenceTransformer, util"
   ]
  },
  {
   "cell_type": "code",
   "execution_count": 2,
   "metadata": {},
   "outputs": [
    {
     "name": "stdout",
     "output_type": "stream",
     "text": [
      "Article Phonograph_cylinder.txt could not be parsed\n",
      "Article Periodic_table_%28large_version%29.txt could not be parsed\n",
      "There are : 4596 articles\n"
     ]
    },
    {
     "data": {
      "text/html": [
       "<div>\n",
       "<style scoped>\n",
       "    .dataframe tbody tr th:only-of-type {\n",
       "        vertical-align: middle;\n",
       "    }\n",
       "\n",
       "    .dataframe tbody tr th {\n",
       "        vertical-align: top;\n",
       "    }\n",
       "\n",
       "    .dataframe thead th {\n",
       "        text-align: right;\n",
       "    }\n",
       "</style>\n",
       "<table border=\"1\" class=\"dataframe\">\n",
       "  <thead>\n",
       "    <tr style=\"text-align: right;\">\n",
       "      <th></th>\n",
       "      <th>Article_Title</th>\n",
       "      <th>Related_Subjects</th>\n",
       "      <th>Description</th>\n",
       "    </tr>\n",
       "  </thead>\n",
       "  <tbody>\n",
       "    <tr>\n",
       "      <th>0</th>\n",
       "      <td>Second Crusade</td>\n",
       "      <td>[Military History and War, Religious disputes]</td>\n",
       "      <td>The Second Crusade was the second major crusad...</td>\n",
       "    </tr>\n",
       "    <tr>\n",
       "      <th>1</th>\n",
       "      <td>Navassa Island</td>\n",
       "      <td>[North American Geography]</td>\n",
       "      <td>Navassa Island (French: La Navase, Haitian Kre...</td>\n",
       "    </tr>\n",
       "    <tr>\n",
       "      <th>2</th>\n",
       "      <td>Evan Rachel Wood</td>\n",
       "      <td>[Actors, models and celebrities]</td>\n",
       "      <td>Evan Rachel Wood (born September 7, 1987) is a...</td>\n",
       "    </tr>\n",
       "    <tr>\n",
       "      <th>3</th>\n",
       "      <td>Tropical Storm Henri (2003)</td>\n",
       "      <td>[Storms]</td>\n",
       "      <td>Tropical Storm Henri was a weak tropical storm...</td>\n",
       "    </tr>\n",
       "    <tr>\n",
       "      <th>4</th>\n",
       "      <td>Final Fantasy Adventure</td>\n",
       "      <td>[Computer &amp; Video games]</td>\n",
       "      <td>Final Fantasy Adventure (originally released i...</td>\n",
       "    </tr>\n",
       "  </tbody>\n",
       "</table>\n",
       "</div>"
      ],
      "text/plain": [
       "                 Article_Title  \\\n",
       "0               Second Crusade   \n",
       "1               Navassa Island   \n",
       "2             Evan Rachel Wood   \n",
       "3  Tropical Storm Henri (2003)   \n",
       "4      Final Fantasy Adventure   \n",
       "\n",
       "                                 Related_Subjects  \\\n",
       "0  [Military History and War, Religious disputes]   \n",
       "1                      [North American Geography]   \n",
       "2                [Actors, models and celebrities]   \n",
       "3                                        [Storms]   \n",
       "4                        [Computer & Video games]   \n",
       "\n",
       "                                         Description  \n",
       "0  The Second Crusade was the second major crusad...  \n",
       "1  Navassa Island (French: La Navase, Haitian Kre...  \n",
       "2  Evan Rachel Wood (born September 7, 1987) is a...  \n",
       "3  Tropical Storm Henri was a weak tropical storm...  \n",
       "4  Final Fantasy Adventure (originally released i...  "
      ]
     },
     "execution_count": 2,
     "metadata": {},
     "output_type": "execute_result"
    }
   ],
   "source": [
    "result = process_articles_directory(\"data/plaintext_articles\")\n",
    "df = pd.DataFrame(result, columns=['Article_Title', 'Related_Subjects', 'Description'])\n",
    "print(f\"There are : {len(df)} articles\")\n",
    "df.head()"
   ]
  },
  {
   "cell_type": "code",
   "execution_count": 4,
   "metadata": {},
   "outputs": [],
   "source": [
    "model = SentenceTransformer(\"all-MiniLM-L6-v2\")"
   ]
  },
  {
   "cell_type": "code",
   "execution_count": 5,
   "metadata": {},
   "outputs": [
    {
     "name": "stdout",
     "output_type": "stream",
     "text": [
      "Carrot score: tensor([[0.0882]])\n",
      "Waheguru score: tensor([[0.0618]])\n",
      "Driving on the left or right score: tensor([[-0.0454]])\n",
      "Sand shark score: tensor([[0.0606]])\n",
      "Bird score: tensor([[0.0777]])\n",
      "Trafalgar Square score: tensor([[0.0311]])\n",
      "Triggerplant score: tensor([[0.0756]])\n",
      "Denis Law score: tensor([[0.0654]])\n",
      "Ceratopsidae score: tensor([[0.0344]])\n",
      "Crow score: tensor([[0.0942]])\n",
      "Anaconda score: tensor([[0.0615]])\n",
      "National parks of England and Wales score: tensor([[0.0809]])\n",
      "Marc Pugh score: tensor([[0.0814]])\n",
      "Turtle score: tensor([[0.0442]])\n",
      "Nutmeg score: tensor([[0.0296]])\n",
      "Shining Path score: tensor([[0.0853]])\n",
      "Ramayana score: tensor([[0.0658]])\n",
      "Puffin score: tensor([[0.0266]])\n",
      "Dolphin score: tensor([[0.0814]])\n",
      "Kestrel score: tensor([[0.0939]])\n",
      "Sumac score: tensor([[0.0704]])\n",
      "Swallow score: tensor([[0.0905]])\n",
      "Tea score: tensor([[0.0861]])\n",
      "Falcon score: tensor([[0.0464]])\n",
      "Saturn score: tensor([[0.0862]])\n",
      "Amazon parrot score: tensor([[0.0895]])\n",
      "Francis Petre score: tensor([[0.0335]])\n",
      "African dwarf frog score: tensor([[0.0767]])\n",
      "Raven score: tensor([[0.0868]])\n",
      "Chives score: tensor([[0.0901]])\n",
      "Brahman score: tensor([[0.0293]])\n",
      "Nurse sharks score: tensor([[0.0951]])\n",
      "Issyk Kul score: tensor([[0.0909]])\n"
     ]
    }
   ],
   "source": [
    "for row in df.itertuples():\n",
    "    score = util.dot_score(model.encode(row.Article_Title),model.encode(row.Description))\n",
    "    if score < 0.1:\n",
    "        print(f\"{row.Article_Title} score: {score}\")"
   ]
  },
  {
   "cell_type": "code",
   "execution_count": null,
   "metadata": {},
   "outputs": [],
   "source": []
  }
 ],
 "metadata": {
  "kernelspec": {
   "display_name": "ada",
   "language": "python",
   "name": "python3"
  },
  "language_info": {
   "codemirror_mode": {
    "name": "ipython",
    "version": 3
   },
   "file_extension": ".py",
   "mimetype": "text/x-python",
   "name": "python",
   "nbconvert_exporter": "python",
   "pygments_lexer": "ipython3",
   "version": "3.11.9"
  }
 },
 "nbformat": 4,
 "nbformat_minor": 2
}
