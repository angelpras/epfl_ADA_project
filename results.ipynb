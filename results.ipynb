{
 "cells": [
  {
   "cell_type": "code",
   "execution_count": 9,
   "metadata": {},
   "outputs": [],
   "source": [
    "import sys\n",
    "import os\n",
    "sys.path.append(os.path.abspath(os.path.join(os.getcwd(), 'src')))\n",
    "\n",
    "from utils import process_articles_directory"
   ]
  },
  {
   "cell_type": "code",
   "execution_count": 22,
   "metadata": {},
   "outputs": [
    {
     "name": "stdout",
     "output_type": "stream",
     "text": [
      "There are : 4598 articles\n",
      "Example article: Second Crusade\n",
      "Related subjects: ['Military History and War', 'Religious disputes']\n",
      "Descriptive paragraph: \n",
      "The Second Crusade was the second major crusade launched from Europe, called in 1145 in response to \n",
      "the fall of the County of Edessa the previous year. Edessa was the first of the Crusader states to h\n",
      "ave been founded during the First Crusade (1095–1099), and was the first to fall. The Second Crusade\n",
      " was announced by Pope Eugene III, and was the first of the crusades to be led by European kings, na\n",
      "mely Louis VII of France and Conrad III of Germany, with help from a number of other important Europ\n",
      "ean nobles. The armies of the two kings marched separately across Europe and were somewhat hindered \n",
      "by Byzantine emperor Manuel I Comnenus; after crossing Byzantine territory into Anatolia, both armie\n",
      "s were separately defeated by the Seljuk Turks. Louis and Conrad and the remnants of their armies re\n",
      "ached Jerusalem and, in 1148, participated in an ill-advised attack on Damascus. The crusade in the \n",
      "east was a failure for the crusaders and a great victory for the Muslims. It would ultimately lead t\n",
      "o the fall of Jerusalem and the Third Crusade at the end of the 12th century.\n",
      "\n"
     ]
    }
   ],
   "source": [
    "result = process_articles_directory(\"data/plaintext_articles\")\n",
    "print(f\"There are : {len(result)} articles\")\n",
    "print(f\"Example article: {result[0][0]}\")\n",
    "print(f\"Related subjects: {result[0][1]}\")\n",
    "print(\"Descriptive paragraph: \")\n",
    "for line in result[0][2].splitlines():\n",
    "    for i in range(0, len(line), 100):  # Step through each line in chunks of 29 characters\n",
    "        print(line[i:i+100])            # Print each 29-character chunk of the line\n",
    "    print()  "
   ]
  },
  {
   "cell_type": "code",
   "execution_count": null,
   "metadata": {},
   "outputs": [],
   "source": []
  }
 ],
 "metadata": {
  "kernelspec": {
   "display_name": "ada",
   "language": "python",
   "name": "python3"
  },
  "language_info": {
   "codemirror_mode": {
    "name": "ipython",
    "version": 3
   },
   "file_extension": ".py",
   "mimetype": "text/x-python",
   "name": "python",
   "nbconvert_exporter": "python",
   "pygments_lexer": "ipython3",
   "version": "3.11.9"
  }
 },
 "nbformat": 4,
 "nbformat_minor": 2
}
