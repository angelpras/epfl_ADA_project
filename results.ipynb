{
 "cells": [
  {
   "cell_type": "code",
   "execution_count": 9,
   "metadata": {},
   "outputs": [],
   "source": [
    "import sys\n",
    "import os\n",
    "sys.path.append(os.path.abspath(os.path.join(os.getcwd(), 'src')))\n",
    "\n",
    "from utils import process_articles_directory"
   ]
  },
  {
   "cell_type": "code",
   "execution_count": 11,
   "metadata": {},
   "outputs": [
    {
     "name": "stdout",
     "output_type": "stream",
     "text": [
      "Second Crusade\n",
      "['Military History and War', 'Religious disputes']\n",
      "The Second Crusade was the second major crusade launched from Europe, called in 1145 in response to the fall of the County of Edessa the previous year. Edessa was the first of the Crusader states to have been founded during the First Crusade (1095–1099), and was the first to fall. The Second Crusade was announced by Pope Eugene III, and was the first of the crusades to be led by European kings, namely Louis VII of France and Conrad III of Germany, with help from a number of other important European nobles. The armies of the two kings marched separately across Europe and were somewhat hindered by Byzantine emperor Manuel I Comnenus; after crossing Byzantine territory into Anatolia, both armies were separately defeated by the Seljuk Turks. Louis and Conrad and the remnants of their armies reached Jerusalem and, in 1148, participated in an ill-advised attack on Damascus. The crusade in the east was a failure for the crusaders and a great victory for the Muslims. It would ultimately lead to the fall of Jerusalem and the Third Crusade at the end of the 12th century.\n"
     ]
    }
   ],
   "source": [
    "result = process_articles_directory(\"data/plaintext_articles\")\n",
    "for i in range(3):\n",
    "    print(result[0][i])"
   ]
  },
  {
   "cell_type": "code",
   "execution_count": null,
   "metadata": {},
   "outputs": [],
   "source": []
  }
 ],
 "metadata": {
  "kernelspec": {
   "display_name": "ada",
   "language": "python",
   "name": "python3"
  },
  "language_info": {
   "codemirror_mode": {
    "name": "ipython",
    "version": 3
   },
   "file_extension": ".py",
   "mimetype": "text/x-python",
   "name": "python",
   "nbconvert_exporter": "python",
   "pygments_lexer": "ipython3",
   "version": "3.11.9"
  }
 },
 "nbformat": 4,
 "nbformat_minor": 2
}
