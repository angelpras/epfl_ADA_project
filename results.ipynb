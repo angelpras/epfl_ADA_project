{
 "cells": [
  {
   "cell_type": "code",
   "execution_count": null,
   "metadata": {},
   "outputs": [
    {
     "ename": "ImportError",
     "evalue": "cannot import name 'process_articles_directory' from 'src.utils.ArticlesParser' (/Users/alexislimozin/Documents/ada-2024-project-collectifmetisser/src/utils/ArticlesParser.py)",
     "output_type": "error",
     "traceback": [
      "\u001b[0;31m---------------------------------------------------------------------------\u001b[0m",
      "\u001b[0;31mImportError\u001b[0m                               Traceback (most recent call last)",
      "Cell \u001b[0;32mIn[7], line 1\u001b[0m\n\u001b[0;32m----> 1\u001b[0m \u001b[38;5;28;01mfrom\u001b[39;00m \u001b[38;5;21;01msrc\u001b[39;00m\u001b[38;5;21;01m.\u001b[39;00m\u001b[38;5;21;01mutils\u001b[39;00m\u001b[38;5;21;01m.\u001b[39;00m\u001b[38;5;21;01mArticlesParser\u001b[39;00m \u001b[38;5;28;01mimport\u001b[39;00m parse_wiki_article, process_articles_directory\n",
      "\u001b[0;31mImportError\u001b[0m: cannot import name 'process_articles_directory' from 'src.utils.ArticlesParser' (/Users/alexislimozin/Documents/ada-2024-project-collectifmetisser/src/utils/ArticlesParser.py)"
     ]
    }
   ],
   "source": [
    "from utils import parse_wiki_article, process_articles_directory"
   ]
  },
  {
   "cell_type": "code",
   "execution_count": null,
   "metadata": {},
   "outputs": [],
   "source": []
  }
 ],
 "metadata": {
  "kernelspec": {
   "display_name": "ada",
   "language": "python",
   "name": "python3"
  },
  "language_info": {
   "codemirror_mode": {
    "name": "ipython",
    "version": 3
   },
   "file_extension": ".py",
   "mimetype": "text/x-python",
   "name": "python",
   "nbconvert_exporter": "python",
   "pygments_lexer": "ipython3",
   "version": "3.11.9"
  }
 },
 "nbformat": 4,
 "nbformat_minor": 2
}
