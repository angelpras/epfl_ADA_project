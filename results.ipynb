{
 "cells": [
  {
   "cell_type": "code",
   "execution_count": 1,
   "metadata": {},
   "outputs": [
    {
     "name": "stderr",
     "output_type": "stream",
     "text": [
      "/Users/alexislimozin/.pyenv/versions/3.11.9/envs/ada/lib/python3.11/site-packages/sentence_transformers/cross_encoder/CrossEncoder.py:13: TqdmExperimentalWarning: Using `tqdm.autonotebook.tqdm` in notebook mode. Use `tqdm.tqdm` instead to force console mode (e.g. in jupyter console)\n",
      "  from tqdm.autonotebook import tqdm, trange\n"
     ]
    }
   ],
   "source": [
    "import sys\n",
    "import os\n",
    "import pandas as pd\n",
    "sys.path.append(os.path.abspath(os.path.join(os.getcwd(), 'src')))\n",
    "\n",
    "\n",
    "from utils import process_articles_directory\n",
    "from sentence_transformers import SentenceTransformer, util"
   ]
  },
  {
   "cell_type": "code",
   "execution_count": null,
   "metadata": {},
   "outputs": [
    {
     "name": "stdout",
     "output_type": "stream",
     "text": [
      "There are : 4598 articles\n"
     ]
    },
    {
     "data": {
      "text/html": [
       "<div>\n",
       "<style scoped>\n",
       "    .dataframe tbody tr th:only-of-type {\n",
       "        vertical-align: middle;\n",
       "    }\n",
       "\n",
       "    .dataframe tbody tr th {\n",
       "        vertical-align: top;\n",
       "    }\n",
       "\n",
       "    .dataframe thead th {\n",
       "        text-align: right;\n",
       "    }\n",
       "</style>\n",
       "<table border=\"1\" class=\"dataframe\">\n",
       "  <thead>\n",
       "    <tr style=\"text-align: right;\">\n",
       "      <th></th>\n",
       "      <th>Article_Title</th>\n",
       "      <th>Related_Subjects</th>\n",
       "      <th>Description</th>\n",
       "    </tr>\n",
       "  </thead>\n",
       "  <tbody>\n",
       "    <tr>\n",
       "      <th>0</th>\n",
       "      <td>Second Crusade</td>\n",
       "      <td>[Military History and War, Religious disputes]</td>\n",
       "      <td>The Second Crusade was the second major crusad...</td>\n",
       "    </tr>\n",
       "    <tr>\n",
       "      <th>1</th>\n",
       "      <td>Navassa Island</td>\n",
       "      <td>[North American Geography]</td>\n",
       "      <td>Navassa Island (French: La Navase, Haitian Kre...</td>\n",
       "    </tr>\n",
       "    <tr>\n",
       "      <th>2</th>\n",
       "      <td>Evan Rachel Wood</td>\n",
       "      <td>[Actors, models and celebrities]</td>\n",
       "      <td>Evan Rachel Wood (born September 7, 1987) is a...</td>\n",
       "    </tr>\n",
       "    <tr>\n",
       "      <th>3</th>\n",
       "      <td>Tropical Storm Henri (2003)</td>\n",
       "      <td>[Storms]</td>\n",
       "      <td>Tropical Storm Henri was a weak tropical storm...</td>\n",
       "    </tr>\n",
       "    <tr>\n",
       "      <th>4</th>\n",
       "      <td>Final Fantasy Adventure</td>\n",
       "      <td>[Computer &amp; Video games]</td>\n",
       "      <td>Final Fantasy Adventure (originally released i...</td>\n",
       "    </tr>\n",
       "  </tbody>\n",
       "</table>\n",
       "</div>"
      ],
      "text/plain": [
       "                 Article_Title  \\\n",
       "0               Second Crusade   \n",
       "1               Navassa Island   \n",
       "2             Evan Rachel Wood   \n",
       "3  Tropical Storm Henri (2003)   \n",
       "4      Final Fantasy Adventure   \n",
       "\n",
       "                                 Related_Subjects  \\\n",
       "0  [Military History and War, Religious disputes]   \n",
       "1                      [North American Geography]   \n",
       "2                [Actors, models and celebrities]   \n",
       "3                                        [Storms]   \n",
       "4                        [Computer & Video games]   \n",
       "\n",
       "                                         Description  \n",
       "0  The Second Crusade was the second major crusad...  \n",
       "1  Navassa Island (French: La Navase, Haitian Kre...  \n",
       "2  Evan Rachel Wood (born September 7, 1987) is a...  \n",
       "3  Tropical Storm Henri was a weak tropical storm...  \n",
       "4  Final Fantasy Adventure (originally released i...  "
      ]
     },
     "execution_count": 6,
     "metadata": {},
     "output_type": "execute_result"
    }
   ],
   "source": [
    "data_path = os.path.abspath(os.path.join(os.getcwd(), 'data'))\n",
    "articles_path = os.path.join(data_path, 'plaintext_articles')\n",
    "\n",
    "result = process_articles_directory(articles_path)\n",
    "df = pd.DataFrame(result, columns=['Article_Title', 'Related_Subjects', 'Description'])\n",
    "print(f\"There are : {len(df)} articles\")\n",
    "df.head()"
   ]
  },
  {
   "cell_type": "code",
   "execution_count": 3,
   "metadata": {},
   "outputs": [],
   "source": [
    "model = SentenceTransformer(\"all-MiniLM-L6-v2\")"
   ]
  },
  {
   "cell_type": "code",
   "execution_count": 12,
   "metadata": {},
   "outputs": [
    {
     "name": "stdout",
     "output_type": "stream",
     "text": [
      "Cheers score: tensor([[0.1901]])\n",
      "Description: Cheers was an American situation comedy produced by Charles-Burrows-Charles Productions in association with Paramount Television for NBC. Cheers was created by the team of James Burrows, Glen Charles, and Les Charles. The show was set in the eponymous Cheers bar (itself named for the toast \" Cheers\") in Boston, Massachusetts, where a group of locals met to drink and generally have fun. The show's theme song was written and performed by Gary Portnoy with its famous refrain, \"where everybody knows your name\", that also became the show's tagline.\n",
      "Amur score: tensor([[0.1967]])\n",
      "Description: The Amur River (Russian: Амур; Simplified Chinese: 黑龙江; Traditional Chinese: 黑龍江; pinyin: Hēilóng Jiāng, or \"Black Dragon River\"; Mongolian: Хара-Мурэн, Khara-Muren or \"Black River\"; Manchu: Sahaliyan Ula, literal meaning \"Black River\") is Earth's eighth longest river, forming the border between the Russian Far East and Manchuria in China.\n"
     ]
    }
   ],
   "source": [
    "for row in df.itertuples():\n",
    "    score = util.dot_score(model.encode(row.Article_Title),model.encode(row.Description))\n",
    "    if score < 0.2:\n",
    "        print(f\"{row.Article_Title} score: {score}\")\n",
    "        print(f\"Description: {row.Description}\")"
   ]
  },
  {
   "cell_type": "code",
   "execution_count": null,
   "metadata": {},
   "outputs": [],
   "source": []
  }
 ],
 "metadata": {
  "kernelspec": {
   "display_name": "ada",
   "language": "python",
   "name": "python3"
  },
  "language_info": {
   "codemirror_mode": {
    "name": "ipython",
    "version": 3
   },
   "file_extension": ".py",
   "mimetype": "text/x-python",
   "name": "python",
   "nbconvert_exporter": "python",
   "pygments_lexer": "ipython3",
   "version": "3.11.9"
  }
 },
 "nbformat": 4,
 "nbformat_minor": 2
}
